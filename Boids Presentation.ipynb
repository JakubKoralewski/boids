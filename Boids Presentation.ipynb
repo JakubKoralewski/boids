{
 "cells": [
  {
   "cell_type": "markdown",
   "metadata": {
    "slideshow": {
     "slide_type": "slide"
    }
   },
   "source": [
    "# Boids algorithm\n",
    "\n",
    "Presentation by Jakub Koralewski\n",
    "\n",
    "**Plan**:\n",
    "\n",
    "1. Boids terminology.\n",
    "2. Original code (Boids description).\n",
    "3. Refactor of the code.\n",
    "4. Adding predators.\n",
    "5. Population graph."
   ]
  },
  {
   "cell_type": "code",
   "execution_count": 1,
   "metadata": {
    "slideshow": {
     "slide_type": "skip"
    }
   },
   "outputs": [
    {
     "data": {
      "text/plain": [
       "'Nicole'"
      ]
     },
     "execution_count": 1,
     "metadata": {},
     "output_type": "execute_result"
    }
   ],
   "source": [
    "from faker import Faker\n",
    "faker = Faker(['en_US', 'pl_PL', 'en_UK'])\n",
    "faker.first_name()"
   ]
  },
  {
   "cell_type": "code",
   "execution_count": 51,
   "metadata": {
    "scrolled": false,
    "slideshow": {
     "slide_type": "subslide"
    }
   },
   "outputs": [
    {
     "data": {
      "text/html": [
       "<div id=\"glowscript\" class=\"glowscript\"></div>"
      ],
      "text/plain": [
       "<IPython.core.display.HTML object>"
      ]
     },
     "metadata": {},
     "output_type": "display_data"
    },
    {
     "data": {
      "application/javascript": [
       "if (typeof Jupyter !== \"undefined\") { window.__context = { glowscript_container: $(\"#glowscript\").removeAttr(\"id\")};}else{ element.textContent = ' ';}"
      ],
      "text/plain": [
       "<IPython.core.display.Javascript object>"
      ]
     },
     "metadata": {},
     "output_type": "display_data"
    }
   ],
   "source": [
    "# For me to check if VPython isn't bugging out\n",
    "\n",
    "from vpython import *\n",
    "# VPython test\n",
    "scene = canvas()\n",
    "scene.range = 1.5\n",
    "scene.title = \"VPython test\"\n",
    "b = box()"
   ]
  },
  {
   "cell_type": "markdown",
   "metadata": {
    "slideshow": {
     "slide_type": "slide"
    }
   },
   "source": [
    "# Boids algorithm"
   ]
  },
  {
   "cell_type": "markdown",
   "metadata": {
    "slideshow": {
     "slide_type": "fragment"
    }
   },
   "source": [
    "The name \"boid\" corresponds to a shortened version of \"bird-oid object\", which refers to a bird-like object.\n",
    "\n",
    "A flock is a gathering of a group of same species animals in order to forage or travel with one another.\n",
    "\n",
    "The Boids algorithm is defined by applying a set of rules to a set of boids (a flock). This mostly involves manipulating the position to achieve a simulation of a bird flock.\n",
    "\n",
    "Details will become clear as we look into the code.\n",
    "\n",
    "**Trivia**\n",
    "\n",
    "Birds are a group of warm-blooded vertebrates. \n",
    "\n",
    "Birds are a group of feathered theropod dinosaurs and constitute the only living dinosaurs.\n",
    "\n",
    "Birds are social, communicating with visual signals, calls, and songs, and participating in such behaviours as cooperative breeding and hunting, flocking, and mobbing of predators."
   ]
  },
  {
   "cell_type": "markdown",
   "metadata": {
    "slideshow": {
     "slide_type": "slide"
    }
   },
   "source": [
    "## The original code"
   ]
  },
  {
   "cell_type": "markdown",
   "metadata": {
    "slideshow": {
     "slide_type": "subslide"
    }
   },
   "source": [
    "Explores flocking behavior of flying \"boids\" aka \"bird android\".\n",
    "\n",
    "Original code from: https://vpython.org/contents/contributed/boids.py\n",
    "\n",
    "Written by: \n",
    "  Eric Nilsen\n",
    "  September 2003\n",
    "  ericjnilsen@earthlink.net\n",
    "\n",
    "Adapted from:\n",
    "  \n",
    "    http://www.vergenet.net/~conrad/boids/pseudocode.html\n",
    "  \n",
    "  Thanks to Conrad Parker conrad@vergenet.net for the boids pseudocode.\n",
    "  Which was first published in [January 2001](https://web.archive.org/web/20020127144959/http://www.vergenet.net/~conrad/boids/pseudocode.html) making this code 20 years old.\n",
    "\n",
    "Small changes and fixes by\n",
    "    Jakub Koralewski to adapt to VPython 7 running inside a Jupyter Notebook"
   ]
  },
  {
   "cell_type": "code",
   "execution_count": 41,
   "metadata": {
    "scrolled": true,
    "slideshow": {
     "slide_type": "subslide"
    }
   },
   "outputs": [],
   "source": [
    "from random import randrange\n",
    "class Boids:\n",
    "    RADIUS = 1                 #radius of a boid.  I wimped and used spheres.\n",
    "    FACTOR = .95               #the amount of movement to the perceived flock center\n",
    "    DT = 0.02                  #delay time between snapshots\n",
    "    def init_scene(self):\n",
    "        global scene\n",
    "        scene.title = \"Boids v1\"\n",
    "    \n",
    "    def __init__(self, numboids = 10, sidesize = 100.0, log=False):     #class constructor with default parameters filled\n",
    "        self.running = True\n",
    "        self.prev_length = 100\n",
    "        self.prev_speed = 100\n",
    "        self.init_scene()\n",
    "        #scene.bind('mouseup', self.toggle)\n",
    "        self.log = log\n",
    "\n",
    "        self.SIDE = sidesize            #unit for a side of the flight space\n",
    "\n",
    "        #the next six lines define the boundaries of the torus\n",
    "        \"\"\"\n",
    "        torus:  donut shaped space, i.e. infinite # jakkor: dunno why its called a torus, its clearly a cube\n",
    "        effect: boids flying out of bounds appear at the opposite side\n",
    "        note:   cartesian matrices don't handle toruses very well, but I couldn't\n",
    "                figure out a better way to keep the flock in view.\n",
    "        \"\"\"\n",
    "        self.MINX = self.SIDE * -1.0    #left\n",
    "        self.MINY = self.SIDE * -1.0    #bottom\n",
    "        self.MINZ = self.SIDE * -1.0    #back\n",
    "        self.MAXX = self.SIDE           #right\n",
    "        self.MAXY = self.SIDE           #top\n",
    "        self.MAXZ = self.SIDE           #front\n",
    "        \n",
    "        self.NEARBY = self.RADIUS * 5   #the 'halo' of space around each boid\n",
    "        \n",
    "        self.NUMBOIDS = numboids        #the number of boids in the flock\n",
    "\n",
    "        self.boidflock = []             #empty list of boids\n",
    "\n",
    "        #okay, now that all the constants have initialized, let's fly!\n",
    "    \n",
    "    def toggle(self):\n",
    "        self.running = not self.running\n",
    "        if self.running:\n",
    "            print(\"restarting\")\n",
    "            for b in self.boidflock:\n",
    "                b.visible = False\n",
    "                del b\n",
    "            del self.boidflock\n",
    "            self.boidflock = []\n",
    "            rate(100000)\n",
    "            global scene\n",
    "            scene.waitfor('redraw')\n",
    "            self.boids(length=self.prev_length, speed=self.prev_speed)\n",
    "\n",
    "    def boids(self, length=100, speed=100):\n",
    "        self.prev_length=length\n",
    "        self.prev_speed=speed\n",
    "        self.initializePositions()      #create a space with boids\n",
    "\n",
    "        x = length\n",
    "        while x > 0 and self.running:                   #loop forever\n",
    "            rate(speed)                   #controls the animation speed, bigger = faster\n",
    "            self.moveAllBoidsToNewPositions()   #um ... what it says\n",
    "            x -= 1\n",
    "            \n",
    "    def initializePositions(self):\n",
    "        #wire frame of space\n",
    "        backBottom = curve(pos=[(self.MINX, self.MINY, self.MINZ), (self.MAXX, self.MINY, self.MINZ)], color=color.white)\n",
    "        backTop = curve(pos=[(self.MINX, self.MAXY, self.MINZ), (self.MAXX, self.MAXY, self.MINZ)], color=color.white)\n",
    "        frontBottom = curve(pos=[(self.MINX, self.MINY, self.MAXZ), (self.MAXX, self.MINY, self.MAXZ)], color=color.white)\n",
    "        frontTop = curve(pos=[(self.MINX, self.MAXY, self.MAXZ), (self.MAXX, self.MAXY, self.MAXZ)], color=color.white)\n",
    "        leftBottom = curve(pos=[(self.MINX, self.MINY, self.MINZ), (self.MINX, self.MINY, self.MAXZ)], color=color.white)\n",
    "        leftTop = curve(pos=[(self.MINX, self.MAXY, self.MINZ), (self.MINX, self.MAXY, self.MAXZ)], color=color.white)\n",
    "        rightBottom = curve(pos=[(self.MAXX, self.MINY, self.MINZ), (self.MAXX, self.MINY, self.MAXZ)], color=color.white)\n",
    "        rightTop = curve(pos=[(self.MAXX, self.MAXY, self.MINZ), (self.MAXX, self.MAXY, self.MAXZ)], color=color.white)\n",
    "        backLeft = curve(pos=[(self.MINX, self.MINY, self.MINZ), (self.MINX, self.MAXY, self.MINZ)], color=color.white)\n",
    "        backRight = curve(pos=[(self.MAXX, self.MINY, self.MINZ), (self.MAXX, self.MAXY, self.MINZ)], color=color.white)\n",
    "        frontLeft = curve(pos=[(self.MINX, self.MINY, self.MAXZ), (self.MINX, self.MAXY, self.MAXZ)], color=color.white)\n",
    "        frontRight = curve(pos=[(self.MAXX, self.MINY, self.MAXZ), (self.MAXX, self.MAXY, self.MAXZ)], color=color.white)\n",
    "\n",
    "        #splatter a flock in the space randomly\n",
    "        c = 0                                   #initialize the color switch\n",
    "        for b in range(self.NUMBOIDS):          #for each boid, ...\n",
    "            x = randrange(self.MINX, self.MAXX) #random left-right\n",
    "            y = randrange(self.MINY, self.MAXY) #random up-down\n",
    "            z = randrange(self.MINZ, self.MAXZ) #random front-back\n",
    "\n",
    "            if c > 2:                           #reset the color switch when it grows too big\n",
    "                c = 0\n",
    "            if c == 0:\n",
    "                COLOR = color.yellow            #a third of the boids shall have yellow\n",
    "            if c == 1:\n",
    "                COLOR = color.green               #and yea a third of the boids shall have green\n",
    "            if c == 2:\n",
    "                COLOR = color.blue              #and verily a third of the boids shall have blue\n",
    "\n",
    "            #splat a boid, add to flock list\n",
    "            #jakkor: FIX 1. Turn pos into a vector from a tuple\n",
    "            b = sphere(pos=vector(x,y,z), radius=self.RADIUS, color=COLOR)\n",
    "            b.name = faker.first_name()\n",
    "            b.eaten = False\n",
    "            b.followed = False\n",
    "            self.boidflock.append(b)\n",
    "\n",
    "            \n",
    "            c += 1                           #increment the color switch\n",
    "\n",
    "##        self.greenie = sphere(radius=self.RADIUS, color=color.green)    #pseudo-boid for testing\n",
    "        \n",
    "\n",
    "    def moveAllBoidsToNewPositions(self):\n",
    "        for b in range(self.NUMBOIDS):\n",
    "            \n",
    "            #Clamping boids's positions hitting the torus 'boundaries'\n",
    "            #jakkor: FIX 2. `pos.x` instead of `.x`\n",
    "            if self.boidflock[b].pos.x < self.MINX:\n",
    "                self.boidflock[b].pos.x = self.MAXX\n",
    "                \n",
    "            if self.boidflock[b].pos.x > self.MAXX:\n",
    "                self.boidflock[b].pos.x = self.MINX\n",
    "                \n",
    "            if self.boidflock[b].pos.y < self.MINY:\n",
    "                self.boidflock[b].pos.y = self.MAXY\n",
    "                \n",
    "            if self.boidflock[b].pos.y > self.MAXY:\n",
    "                self.boidflock[b].pos.y = self.MINY\n",
    "                \n",
    "            if self.boidflock[b].pos.z < self.MINZ:\n",
    "                self.boidflock[b].pos.z = self.MAXZ\n",
    "                \n",
    "            if self.boidflock[b].pos.z > self.MAXZ:\n",
    "                self.boidflock[b].pos.z = self.MINZ\n",
    "            #jakkor: FIX 3. Got rid of useless 0 vectors overriden instantly\n",
    " \n",
    "            v1 = self.rule1(b)              #get the vector for rule 1\n",
    "            v2 = self.rule2(b)              #get the vector for rule 2\n",
    "            v3 = self.rule3(b)              #get the vector for rule 3\n",
    "\n",
    "            boidvelocity = v1 + v2 + v3         #initialize the boid velocity; accumulate the rules vector results\n",
    "            self.boidflock[b].pos += boidvelocity*self.DT #move the boid\n",
    "\n",
    "                \n",
    "\n",
    "    def rule1(self, aboid):    #Rule 1:  boids fly to perceived flock center\n",
    "        pfc = vector(0.0,0.0,0.0)                   #pfc: perceived flock center\n",
    "        for b in range(self.NUMBOIDS):              #for all the boids\n",
    "            if b != aboid:                          #except the boid at hand\n",
    "                 pfc = pfc + self.boidflock[b].pos  #calculate the total pfc\n",
    "        # once we start killing the birds we cant be using a constant\n",
    "        pfc = pfc/(self.NUMBOIDS - 1.0)             #average the pfc\n",
    "##        self.greenie.pos = pfc                      #put greenie at the pfc, see what's going on\n",
    "\n",
    "        #nudge the boid in the correct direction toward the pfc \n",
    "        if pfc.x > self.boidflock[aboid].pos.x:\n",
    "            pfc.x = (pfc.x - self.boidflock[aboid].pos.x)*self.FACTOR\n",
    "        if pfc.x < self.boidflock[aboid].pos.x:\n",
    "            pfc.x = (self.boidflock[aboid].pos.x - pfc.x)*-self.FACTOR\n",
    "        if pfc.y > self.boidflock[aboid].pos.y:\n",
    "            pfc.y = (pfc.y - self.boidflock[aboid].pos.y)*self.FACTOR\n",
    "        if pfc.y < self.boidflock[aboid].pos.y:\n",
    "            pfc.y = (self.boidflock[aboid].pos.y - pfc.y)*-self.FACTOR\n",
    "        if pfc.z > self.boidflock[aboid].pos.z:\n",
    "            pfc.z = (pfc.z - self.boidflock[aboid].pos.z)*self.FACTOR\n",
    "        if pfc.z < self.boidflock[aboid].pos.z:\n",
    "            pfc.z = (self.boidflock[aboid].pos.z - pfc.z)*-self.FACTOR\n",
    "\n",
    "        return pfc \n",
    "\n",
    "    def rule2(self, aboid):    #Rule 2: boids avoid other boids\n",
    "        v = vector(0.0,0.0,0.0) #initialize the avoidance vector\n",
    "\n",
    "        for b in range(self.NUMBOIDS):\n",
    "            if b != aboid:\n",
    "                if abs(self.boidflock[b].pos.x - self.boidflock[aboid].pos.x) < self.NEARBY:\n",
    "                    if self.boidflock[b].pos.x > self.boidflock[aboid].pos.x:\n",
    "                        v.x = self.NEARBY * 12.0    #works better when I multiply by 12, don't know why\n",
    "                    if self.boidflock[b].pos.x < self.boidflock[aboid].pos.x:\n",
    "                        v.x = -self.NEARBY * 12.0\n",
    "                if abs(self.boidflock[b].pos.y - self.boidflock[aboid].pos.y) < self.NEARBY:\n",
    "                    if self.boidflock[b].pos.y > self.boidflock[aboid].pos.y:\n",
    "                        v.y = self.NEARBY * 12.0\n",
    "                    if self.boidflock[b].pos.y < self.boidflock[aboid].pos.y:\n",
    "                        v.y = -self.NEARBY * 12.0\n",
    "                if abs(self.boidflock[b].pos.z - self.boidflock[aboid].pos.z) < self.NEARBY:\n",
    "                    if self.boidflock[b].pos.z > self.boidflock[aboid].pos.z:\n",
    "                        v.z = self.NEARBY * 12.0\n",
    "                    if self.boidflock[b].pos.z < self.boidflock[aboid].pos.z:\n",
    "                        v.z = -self.NEARBY * 12.0\n",
    "\n",
    "        return v\n",
    "        \n",
    "    def rule3(self, aboid):    #Rule 3: boids try to match speed of flock\n",
    "        pfv = vector(0.0,0.0,0.0)   #pfv: perceived flock velocity\n",
    "            \n",
    "        for b in range(self.NUMBOIDS):\n",
    "            if b != aboid:\n",
    "                 pfv = pfv + self.boidflock[b].pos\n",
    "\n",
    "        pfv = pfv/(self.NUMBOIDS - 1.0)\n",
    "        pfv = pfv/(aboid + 1)    #some of the boids are more sluggish than others\n",
    "        \n",
    "        return pfv"
   ]
  },
  {
   "cell_type": "markdown",
   "metadata": {
    "slideshow": {
     "slide_type": "slide"
    }
   },
   "source": [
    "## Example"
   ]
  },
  {
   "cell_type": "code",
   "execution_count": 53,
   "metadata": {
    "scrolled": true,
    "slideshow": {
     "slide_type": "fragment"
    }
   },
   "outputs": [
    {
     "data": {
      "text/html": [
       "<div id=\"glowscript\" class=\"glowscript\"></div>"
      ],
      "text/plain": [
       "<IPython.core.display.HTML object>"
      ]
     },
     "metadata": {},
     "output_type": "display_data"
    },
    {
     "data": {
      "application/javascript": [
       "if (typeof Jupyter !== \"undefined\") { window.__context = { glowscript_container: $(\"#glowscript\").removeAttr(\"id\")};}else{ element.textContent = ' ';}"
      ],
      "text/plain": [
       "<IPython.core.display.Javascript object>"
      ]
     },
     "metadata": {},
     "output_type": "display_data"
    }
   ],
   "source": [
    "scene = canvas()\n",
    "scene.range = 100\n",
    "# VPython seems to be bugging making the animation really short, hope it works during the presentation 🤞 \n",
    "Boids(numboids=10).boids(length=200, speed=100)"
   ]
  },
  {
   "cell_type": "markdown",
   "metadata": {
    "slideshow": {
     "slide_type": "slide"
    }
   },
   "source": [
    "# Refactor\n",
    "\n",
    "The following slides will all be part of a rewrite of the original code shown above."
   ]
  },
  {
   "cell_type": "markdown",
   "metadata": {
    "slideshow": {
     "slide_type": "slide"
    }
   },
   "source": [
    "## 1. Rules into classes\n",
    "\n",
    "We want to be able to dynamically choose which rules we would like to run like so:\n",
    "\n",
    "```py\n",
    "Boids2([Rule1, Rule2, Rule3])\n",
    "```\n",
    "\n",
    "This will help when we add specific predator behaviors which we can then tweak. Will also help explain how Boids algorithm works."
   ]
  },
  {
   "cell_type": "code",
   "execution_count": 5,
   "metadata": {
    "slideshow": {
     "slide_type": "subslide"
    }
   },
   "outputs": [],
   "source": [
    "# A Python \"abstract\" class\n",
    "class Rule:\n",
    "    # Right now only this method is useful\n",
    "    def rule(self, boids: Boids, cur: int) -> vector:\n",
    "        # This runs for every boid (cur is the boids index)\n",
    "        # you return a vector that will move the given boid\n",
    "        raise Exception(\"put rule code that moves cur bird\") # <- needs to be overriden\n",
    "    \n",
    "    # ----\n",
    "    # The ones below are useful for state-ful rules: predator rules\n",
    "    def __init__(self, boids: Boids):\n",
    "        # This code will be ran when the Boids class is initialized\n",
    "        # so you can initialize stuff for your rule here\n",
    "        pass \n",
    "    \n",
    "    def on_frame_finish(self, boids: Boids):\n",
    "        # this method will be called after applying each rule to each boid in a given frame\n",
    "        # put some custom stuff here, e.g. predators are in a separate collection so\n",
    "        # you can manipulate it here\n",
    "        pass"
   ]
  },
  {
   "cell_type": "markdown",
   "metadata": {
    "slideshow": {
     "slide_type": "subslide"
    }
   },
   "source": [
    "### 1. Boids fly to perceived flock center"
   ]
  },
  {
   "cell_type": "code",
   "execution_count": 42,
   "metadata": {
    "slideshow": {
     "slide_type": "fragment"
    }
   },
   "outputs": [],
   "source": [
    "class FlyToCenter(Rule): #Rule 1:  boids fly to perceived flock center\n",
    "    def rule(self, boids: Boids, cur: int) -> vector:   \n",
    "        num = len(boids.boidflock)\n",
    "        pfc = vector(0.0,0.0,0.0)                   #pfc: perceived flock center\n",
    "        for b in range(num):              #for all the boids\n",
    "            if b != cur:                          #except the boid at hand\n",
    "                 pfc = pfc + boids.boidflock[b].pos  #calculate the total pfc\n",
    "\n",
    "        # From perspective of one of the birds the flock does not include yourself (hence -1)\n",
    "        pfc = pfc/(num - 1.0)             #average the pfc\n",
    "        pos = boids.boidflock[cur].pos              #current boid's pos\n",
    "\n",
    "        #nudge the boid in the correct direction toward the pfc \n",
    "        if pfc.x > pos.x: # if flock to the right then go right\n",
    "            pfc.x = (pfc.x - pos.x)*boids.FACTOR # by some factor\n",
    "        if pfc.x < pos.x:\n",
    "            pfc.x = (pos.x - pfc.x)*-boids.FACTOR # removed NEGFACTOR in favor of simply -boids.FACTOR\n",
    "        if pfc.y > pos.y:\n",
    "            pfc.y = (pfc.y - pos.y)*boids.FACTOR\n",
    "        if pfc.y < pos.y:\n",
    "            pfc.y = (pos.y - pfc.y)*-boids.FACTOR\n",
    "        if pfc.z > pos.z:\n",
    "            pfc.z = (pfc.z - pos.z)*boids.FACTOR\n",
    "        if pfc.z < pos.z:\n",
    "            pfc.z = (pos.z - pfc.z)*-boids.FACTOR\n",
    "        \n",
    "        return pfc"
   ]
  },
  {
   "cell_type": "markdown",
   "metadata": {
    "slideshow": {
     "slide_type": "subslide"
    }
   },
   "source": [
    "### 2. Boids avoid other boids"
   ]
  },
  {
   "cell_type": "code",
   "execution_count": 7,
   "metadata": {
    "slideshow": {
     "slide_type": "fragment"
    }
   },
   "outputs": [],
   "source": [
    "class AvoidOtherBoids(Rule): #Rule 2: boids avoid other boids\n",
    "    # for each boid\n",
    "    def rule(self, boids: Boids, cur: int) -> vector:   \n",
    "        v = vector(0.0,0.0,0.0) #initialize the avoidance vector\n",
    "        cur_pos = boids.boidflock[cur].pos\n",
    "\n",
    "        # and each another boid [O(n^2)]\n",
    "        for b in range(len(boids.boidflock)):\n",
    "            if b != cur:\n",
    "                b_pos = boids.boidflock[b].pos\n",
    "                if abs(b_pos.x - cur_pos.x) < boids.NEARBY:\n",
    "                    if b_pos.x > cur_pos.x:\n",
    "                        v.x = boids.NEARBY * 12.0    #works better when I multiply by 12, don't know why\n",
    "                    if b_pos.x < cur_pos.x:\n",
    "                        v.x = -boids.NEARBY * 12.0\n",
    "                if abs(b_pos.y - cur_pos.y) < boids.NEARBY:\n",
    "                    if b_pos.y > cur_pos.y:\n",
    "                        v.y = boids.NEARBY * 12.0\n",
    "                    if b_pos.y < cur_pos.y:\n",
    "                        v.y = -boids.NEARBY * 12.0\n",
    "                if abs(b_pos.z - cur_pos.z) < boids.NEARBY:\n",
    "                    if b_pos.z > cur_pos.z:\n",
    "                        v.z = boids.NEARBY * 12.0\n",
    "                    if b_pos.z < cur_pos.z:\n",
    "                        v.z = -boids.NEARBY * 12.0\n",
    "        return v"
   ]
  },
  {
   "cell_type": "markdown",
   "metadata": {
    "slideshow": {
     "slide_type": "subslide"
    }
   },
   "source": [
    "### 3. Boids try to match speed of flock"
   ]
  },
  {
   "cell_type": "code",
   "execution_count": 8,
   "metadata": {
    "slideshow": {
     "slide_type": "fragment"
    }
   },
   "outputs": [],
   "source": [
    "class MatchFlockSpeed(Rule): #Rule 3: boids try to match speed of flock\n",
    "    def rule(self, boids: Boids, cur: int) -> vector:   \n",
    "        pfv = vector(0.0,0.0,0.0)   #pfv: perceived flock velocity\n",
    "        num = len(boids.boidflock)\n",
    "        # again for each other boid\n",
    "        for b in range(num):\n",
    "            if b != cur:\n",
    "                 pfv += boids.boidflock[b].pos\n",
    "\n",
    "        pfv = pfv/(num - 1.0)\n",
    "        pfv = pfv/(cur + 1)    #some of the boids are more sluggish than others\n",
    "        \n",
    "        return pfv"
   ]
  },
  {
   "cell_type": "markdown",
   "metadata": {
    "slideshow": {
     "slide_type": "slide"
    }
   },
   "source": [
    "## 2. Boids class refactored to use those classes"
   ]
  },
  {
   "cell_type": "code",
   "execution_count": 9,
   "metadata": {
    "slideshow": {
     "slide_type": "subslide"
    }
   },
   "outputs": [],
   "source": [
    "class Boids2(Boids): # inherit from original Boids and overwrite __int__ and moveAllBoidsToNewPositions\n",
    "    def __init__(self, rules: list[Rule], numboids = 10, sidesize = 100.0, log=True):     #class constructor with default parameters filled\n",
    "        super().__init__(numboids, sidesize, log)\n",
    "        self.rules = [rule(self) for rule in rules]\n",
    "        self.should_stop = False\n",
    "        global scene\n",
    "        scene.title = \"Boids v2\"\n",
    "    \n",
    "    def boids(self, length=300, speed=100):\n",
    "        self.initializePositions()      #create a space with boids\n",
    "        x = length\n",
    "        global scene\n",
    "        scene.bind('mousedown', self.stop)\n",
    "        while x > 0 and not self.should_stop:                   \n",
    "            rate(speed)                   #controls the animation speed, bigger = faster\n",
    "            try:\n",
    "                self.moveAllBoidsToNewPositions()   #um ... what it says\n",
    "            except Boids2.NotEnoughBirdsLeft as e:\n",
    "                print(e)\n",
    "                if self.log:\n",
    "                    print(\"Lone survivor: \", self.boidflock[0].name)\n",
    "                break\n",
    "            x -= 1\n",
    "        \n",
    "    \n",
    "    def stop(self):\n",
    "        self.should_stop = not self.should_stop\n",
    "    \n",
    "    class NotEnoughBirdsLeft(Exception):\n",
    "        def __init__(self):\n",
    "            super().__init__(\"Not enough birds (1 is not a flock)\")\n",
    "\n",
    "    def moveAllBoidsToNewPositions(self):\n",
    "        for i, b in enumerate(self.boidflock):\n",
    "            if b.eaten:\n",
    "                continue\n",
    "            if b.pos.x < self.MINX:\n",
    "                b.pos.x = self.MAXX               \n",
    "            elif b.pos.x > self.MAXX:\n",
    "                b.pos.x = self.MINX\n",
    "                \n",
    "            if b.pos.y < self.MINY:\n",
    "                b.pos.y = self.MAXY    \n",
    "            elif b.pos.y > self.MAXY:\n",
    "                b.pos.y = self.MINY\n",
    "                \n",
    "            if b.pos.z < self.MINZ:\n",
    "                b.pos.z = self.MAXZ  \n",
    "            elif b.pos.z > self.MAXZ:\n",
    "                b.pos.z = self.MINZ\n",
    "\n",
    "            boidvelocity = vector(0, 0, 0)\n",
    "            for rule in self.rules:\n",
    "                rule_out = rule.rule(self, i)\n",
    "                boidvelocity += rule_out  #jakkor: output of rules is accumulated\n",
    "            #jakkor: and then added to the position of the particular boid\n",
    "            b.pos += boidvelocity*self.DT #move the boid\n",
    "        for rule in self.rules:\n",
    "            rule.on_frame_finish(self)\n",
    "        if len(self.boidflock) <= 1: # OG algorithm does not work with 1 bird as it divides by (num-1)\n",
    "            raise Boids2.NotEnoughBirdsLeft\n"
   ]
  },
  {
   "cell_type": "markdown",
   "metadata": {
    "slideshow": {
     "slide_type": "subslide"
    }
   },
   "source": [
    "Let's test it!\n",
    "\n",
    "It *should* work same as before."
   ]
  },
  {
   "cell_type": "code",
   "execution_count": 54,
   "metadata": {
    "scrolled": false,
    "slideshow": {
     "slide_type": "fragment"
    }
   },
   "outputs": [
    {
     "data": {
      "text/html": [
       "<div id=\"glowscript\" class=\"glowscript\"></div>"
      ],
      "text/plain": [
       "<IPython.core.display.HTML object>"
      ]
     },
     "metadata": {},
     "output_type": "display_data"
    },
    {
     "data": {
      "application/javascript": [
       "if (typeof Jupyter !== \"undefined\") { window.__context = { glowscript_container: $(\"#glowscript\").removeAttr(\"id\")};}else{ element.textContent = ' ';}"
      ],
      "text/plain": [
       "<IPython.core.display.Javascript object>"
      ]
     },
     "metadata": {},
     "output_type": "display_data"
    }
   ],
   "source": [
    "scene = canvas()\n",
    "scene.range = 100\n",
    "Boids2([FlyToCenter, AvoidOtherBoids, MatchFlockSpeed]).boids()"
   ]
  },
  {
   "cell_type": "markdown",
   "metadata": {
    "slideshow": {
     "slide_type": "slide"
    }
   },
   "source": [
    "## Adding predators (and their rules)\n",
    "\n",
    "![](https://crops.giga.de/ea/a9/06/10fcbb64359cd4315b98f741f6_YyAxODI1eDEwMjYrOTArNwJyZSA1MDAgMjgwA2U5MWM2NWQxOTdm.jpg)"
   ]
  },
  {
   "cell_type": "markdown",
   "metadata": {
    "slideshow": {
     "slide_type": "subslide"
    }
   },
   "source": [
    "## 1. Predators exist\n",
    "\n",
    "Defines number of predators and their existence. This is the rule of life."
   ]
  },
  {
   "cell_type": "code",
   "execution_count": 11,
   "metadata": {
    "slideshow": {
     "slide_type": "-"
    }
   },
   "outputs": [],
   "source": [
    "class PredatorsExist(Rule): # Predators exist in real life :O\n",
    "    def rule(self, boids: Boids, cur: int) -> vector:\n",
    "        return vector(0,0,0) # dummy rule, we don't affect birds in any way!\n",
    "    \n",
    "    def __init__(self, num: int = 1):\n",
    "        self.num_predators = num # we use __init__ for config\n",
    "    \n",
    "    # We use __call__ to mimick __init__ when not using __init__ for config\n",
    "    def __call__(self, boids: Boids):\n",
    "        # Initialize predator geometry\n",
    "        boids.predatorflock = []\n",
    "        for _ in range(self.num_predators):\n",
    "            # Pick a random place\n",
    "            x = randrange(boids.MINX, boids.MAXX) #random left-right\n",
    "            y = randrange(boids.MINY, boids.MAXY) #random up-down\n",
    "            z = randrange(boids.MINZ, boids.MAXZ) #random front-back\n",
    "            \n",
    "            # Same as for boids, except larger and red\n",
    "            p = sphere(pos=vector(x,y,z), radius=boids.RADIUS*5, color=color.red)\n",
    "            p.eating = False\n",
    "            p.name = faker.name()\n",
    "            p.followed_bird = None\n",
    "            boids.predatorflock.append(p) \n",
    "        \n",
    "        return self"
   ]
  },
  {
   "cell_type": "markdown",
   "metadata": {
    "slideshow": {
     "slide_type": "subslide"
    }
   },
   "source": [
    "## 2. Predators chase Perceived Flock Center\n",
    "\n",
    "Can be replaced by 3rd rule. Predators go into the \"general\" direction of the flock. "
   ]
  },
  {
   "cell_type": "code",
   "execution_count": 12,
   "metadata": {
    "slideshow": {
     "slide_type": "-"
    }
   },
   "outputs": [],
   "source": [
    "class PredatorsChasePFC(Rule): # Predators chase Perceived Flock Center\n",
    "    FACTOR = 2 # speed of predators\n",
    "    def rule(self, boids, cur):\n",
    "        return vector(0,0,0) # again not affecting birds\n",
    "\n",
    "    def on_frame_finish(self, boids: Boids):\n",
    "        # After all birds have been moved\n",
    "        \n",
    "        # Predator chases birds\n",
    "        for p in boids.predatorflock:\n",
    "            if p.eating:\n",
    "                continue\n",
    "            pos = p.pos\n",
    "            num = len(boids.boidflock)\n",
    "            pfc = vector(0.0,0.0,0.0)                   #pfc: perceived flock center\n",
    "            # jakkor idea:\n",
    "            # Predators chase a random subset of boids to not be carbon-copies of each other\n",
    "            rand_seen = floor(random() * len(boids.boidflock))\n",
    "            rand2 = random() < 0.5\n",
    "            for b in (boids.boidflock[rand_seen:] if rand2 else boids.boidflock[:rand_seen]):\n",
    "                pfc += b.pos  #calculate the total pfc\n",
    "\n",
    "            pfc = pfc/num             #average the pfc\n",
    "\n",
    "            #nudge the boid in the correct direction toward the pfc \n",
    "            p.pos += (pfc-p.pos)*boids.FACTOR*self.FACTOR*boids.DT"
   ]
  },
  {
   "cell_type": "markdown",
   "metadata": {
    "slideshow": {
     "slide_type": "subslide"
    }
   },
   "source": [
    "## 3. Predators chase closest bird\n",
    "\n",
    "![](https://timeoutcdn-new-york.s3.amazonaws.com/GIFs/marvel/8.gif)\n",
    "\n",
    "Can be replaced by 2nd rule. Predators choose the closest bird and stick to it to a certain defined period called \"memory\"."
   ]
  },
  {
   "cell_type": "code",
   "execution_count": 13,
   "metadata": {
    "slideshow": {
     "slide_type": "-"
    }
   },
   "outputs": [],
   "source": [
    "from heapq import heappush,heappop\n",
    "from dataclasses import dataclass\n",
    "\n",
    "@dataclass\n",
    "class FollowedBird:\n",
    "    frame: int # since frame\n",
    "    bird: sphere\n",
    "\n",
    "class PredatorsChaseClosestBird(Rule): # Predators chase closest bird\n",
    "    FACTOR = 2 # speed of predators\n",
    "    def rule(self, boids, cur):\n",
    "        return vector(0,0,0)\n",
    "    # A memory (in frames) is passed in\n",
    "    def __init__(self, memory=0):\n",
    "        self.frame = 0\n",
    "        self.memory = memory # the length of frames for which the predator follows a single bird\n",
    "    \n",
    "    def __call__(self, boids: Boids):\n",
    "        return self\n",
    "\n",
    "    def on_frame_finish(self, boids: Boids):\n",
    "        # We count frames here\n",
    "        self.frame += 1\n",
    "        # After all birds have been moved\n",
    "        \n",
    "        # Predator chases birds\n",
    "        for p in boids.predatorflock:\n",
    "            if p.eating: # can't eat two at a time\n",
    "                continue\n",
    "            pos = p.pos\n",
    "            num = len(boids.boidflock)\n",
    "            closest_bird = None\n",
    "            # if not following any bird (beginning) or forgot who we're chasing\n",
    "            if not p.followed_bird or (p.followed_bird.frame + self.memory) < self.frame:\n",
    "                \n",
    "                # Pick new bird to follow\n",
    "                p.followed_bird = None\n",
    "                \n",
    "                # We use a heap to get the minimal distance without sorting\n",
    "                distances = []\n",
    "                for b in boids.boidflock:              #for all the boids\n",
    "                    heappush(distances, ((b.pos - p.pos).mag, b))\n",
    "                \n",
    "                dist, closest_bird = heappop(distances)\n",
    "                while closest_bird.followed and len(distances) > 0: \n",
    "                    #print(f\"{closest_bird.name} was being followed by {closest_bird.followed.name} already\")\n",
    "                    dist, closest_bird = heappop(distances)\n",
    "\n",
    "                closest_bird.followed = p\n",
    "                if p.followed_bird:\n",
    "                    p.followed_bird.followed = False\n",
    "                p.followed_bird = FollowedBird(frame=self.frame, bird=closest_bird)\n",
    "                #print(f\"{p.name} following new bird {closest_bird.name}\")\n",
    "            else:\n",
    "                # Already following a bird\n",
    "                closest_bird = p.followed_bird.bird\n",
    "            # Move into direction of this bird\n",
    "            p.pos -= (p.pos-closest_bird.pos)*boids.DT*self.FACTOR"
   ]
  },
  {
   "cell_type": "markdown",
   "metadata": {
    "slideshow": {
     "slide_type": "subslide"
    }
   },
   "source": [
    "## 4. Birds escape predators\n",
    "\n",
    "Birds try to avoid the predators."
   ]
  },
  {
   "cell_type": "code",
   "execution_count": 14,
   "metadata": {
    "slideshow": {
     "slide_type": "-"
    }
   },
   "outputs": [],
   "source": [
    "#FIXME (didn't have time to fix): in slow-motion doesnt look like they are really escaping?\n",
    "class BirdsEscapePredators(Rule): # Birds try to escape predators\n",
    "    def rule(self, boids: Boids, cur: int) -> vector:\n",
    "        # For each bird\n",
    "        b = boids.boidflock[cur]\n",
    "        v = vector(0,0,0)\n",
    "        # For each predator\n",
    "        for p in boids.predatorflock:\n",
    "            cur_pos = p.pos\n",
    "            b_pos = b.pos\n",
    "            if abs(b_pos.x - cur_pos.x) < boids.NEARBY:\n",
    "                if b_pos.x > cur_pos.x:\n",
    "                    v.x = boids.NEARBY * 12.0    #works better when I multiply by 12, don't know why\n",
    "                elif b_pos.x < cur_pos.x:\n",
    "                    v.x = -boids.NEARBY * 12.0\n",
    "            if abs(b_pos.y - cur_pos.y) < boids.NEARBY:\n",
    "                if b_pos.y > cur_pos.y:\n",
    "                    v.y = boids.NEARBY * 12.0\n",
    "                elif b_pos.y < cur_pos.y:\n",
    "                    v.y = -boids.NEARBY * 12.0\n",
    "            if abs(b_pos.z - cur_pos.z) < boids.NEARBY:\n",
    "                if b_pos.z > cur_pos.z:\n",
    "                    v.z = boids.NEARBY * 12.0\n",
    "                elif b_pos.z < cur_pos.z:\n",
    "                    v.z = -boids.NEARBY * 12.0\n",
    "        return v"
   ]
  },
  {
   "cell_type": "markdown",
   "metadata": {
    "slideshow": {
     "slide_type": "subslide"
    }
   },
   "source": [
    "## 5. Predators eat birds\n",
    "\n",
    "Once a predator gets sufficiently close to a bird, it stops in mid-air for a certain period of time to eat it."
   ]
  },
  {
   "cell_type": "code",
   "execution_count": 15,
   "metadata": {
    "slideshow": {
     "slide_type": "-"
    }
   },
   "outputs": [],
   "source": [
    "from dataclasses import dataclass\n",
    "@dataclass\n",
    "class Meal:\n",
    "    predator_index: int # predator\n",
    "    predator: sphere\n",
    "    b: sphere # bird\n",
    "    frame: int # frame when started eating \n",
    "\n",
    "class PredatorsEatBirds(Rule):\n",
    "    AFTER_FRAMES = 5 # head start; Time for birds to run away in case generated close to each other\n",
    "    \n",
    "    def __init__(self, vicinity_to_eat = 20, time_to_eat = 50):\n",
    "        self.vicinity_to_eat = vicinity_to_eat\n",
    "        self.pizza_time_length = time_to_eat # time for predator to finish his meal\n",
    "        self.frame = 0\n",
    "        self.meals: list[Meal] = []\n",
    "        \n",
    "    def __call__(self, boids: Boids):\n",
    "        return self\n",
    "    \n",
    "    def rule(self, boids, cur):   \n",
    "        return vector(0,0,0)\n",
    "    \n",
    "    def remove_meal(self, m: Meal, boids: Boids) -> bool:\n",
    "        m.predator.eating = False\n",
    "        m.predator.radius += 0.5\n",
    "        m.b.visible = False\n",
    "        del m\n",
    "        return False\n",
    "\n",
    "    def on_frame_finish(self, boids: Boids): \n",
    "        self.frame += 1\n",
    "        if self.frame <= self.AFTER_FRAMES:\n",
    "            return\n",
    "        # Check if finished eating\n",
    "        \n",
    "        # stop eating if finished\n",
    "        filtered_meals = []\n",
    "        boids_to_remove = []\n",
    "        for m in self.meals:\n",
    "            if self.frame - m.frame > self.pizza_time_length:\n",
    "                self.remove_meal(m, boids)\n",
    "                boids_to_remove.append(m.b)\n",
    "            else:\n",
    "                filtered_meals.append(m)\n",
    "        boids.boidflock = list(filter(lambda b: b not in boids_to_remove, boids.boidflock))\n",
    "        self.meals = filtered_meals\n",
    "        def in_vicinity(p: sphere):\n",
    "            cur_pos = p.pos\n",
    "            return ((b_pos - cur_pos).mag < self.vicinity_to_eat)\n",
    "        \n",
    "        for b in boids.boidflock:\n",
    "            if b.eaten:\n",
    "                continue\n",
    "            b_pos = b.pos\n",
    "            # info if b is dead (including which predator killed it) or None\n",
    "            kill_iter = filter(lambda x: x[0], map(lambda x: (in_vicinity(x[1]), x[0], x[1]), enumerate(boids.predatorflock)))\n",
    "            kill = next(kill_iter, None)\n",
    "            if kill:\n",
    "                predator_index, predator = kill[1:]\n",
    "                if predator.eating:\n",
    "                    continue # predator can only eat one bird at a time\n",
    "                if boids.log:\n",
    "                    print(f\"bird {b.name} being eaten by {predator.name}\")\n",
    "                # Eating predators and eaten birds stop moving\n",
    "                predator.eating = True\n",
    "                b.eaten = True\n",
    "                self.meals.append(Meal(predator_index=predator_index, predator=predator, b=b, frame=self.frame))"
   ]
  },
  {
   "cell_type": "markdown",
   "metadata": {
    "slideshow": {
     "slide_type": "subslide"
    }
   },
   "source": [
    "## 6. Predators avoid other predators.\n",
    "\n",
    "Otherwise they overlap. This doesn't fix the issue where if the predators are following the 2nd rule (Chase Perceived Flock Center) they fly the exact same path, but it fixes the issue where they form a single overlapping predator."
   ]
  },
  {
   "cell_type": "code",
   "execution_count": 16,
   "metadata": {
    "slideshow": {
     "slide_type": "-"
    }
   },
   "outputs": [],
   "source": [
    "class PredatorsAvoidOtherPredators(Rule): #Rule: predators dont overlap\n",
    "    def rule(self, boids: Boids, cur: int) -> vector:   \n",
    "        return vector(0,0,0)\n",
    "\n",
    "\n",
    "    def on_frame_finish(self, boids: Boids):\n",
    "        # After all birds have been moved\n",
    "    \n",
    "        for i, p1 in enumerate(boids.predatorflock):\n",
    "            v = vector(0.0,0.0,0.0) #initialize the avoidance vector\n",
    "            cur_pos = p1.pos\n",
    "            p1_rad = p1.radius**3\n",
    "            for p2 in boids.predatorflock[i+1:]:\n",
    "                radii_sum = p1.radius + p2.radius\n",
    "                b_pos = p2.pos\n",
    "                # Get vector from one predator to another\n",
    "                displacement = p2.pos - p1.pos\n",
    "                # Check if distance is smaller than sum of their radii\n",
    "                dist = displacement.mag - radii_sum\n",
    "                scene.caption = dist\n",
    "                if dist < 1:\n",
    "                    v -= displacement.hat*(-dist)*2\n",
    "            \n",
    "            p1.pos += v"
   ]
  },
  {
   "cell_type": "markdown",
   "metadata": {
    "slideshow": {
     "slide_type": "slide"
    }
   },
   "source": [
    "## Example"
   ]
  },
  {
   "cell_type": "code",
   "execution_count": 65,
   "metadata": {
    "scrolled": false,
    "slideshow": {
     "slide_type": "fragment"
    }
   },
   "outputs": [
    {
     "data": {
      "text/html": [
       "<div id=\"glowscript\" class=\"glowscript\"></div>"
      ],
      "text/plain": [
       "<IPython.core.display.HTML object>"
      ]
     },
     "metadata": {},
     "output_type": "display_data"
    },
    {
     "data": {
      "application/javascript": [
       "if (typeof Jupyter !== \"undefined\") { window.__context = { glowscript_container: $(\"#glowscript\").removeAttr(\"id\")};}else{ element.textContent = ' ';}"
      ],
      "text/plain": [
       "<IPython.core.display.Javascript object>"
      ]
     },
     "metadata": {},
     "output_type": "display_data"
    },
    {
     "name": "stdout",
     "output_type": "stream",
     "text": [
      "bird Denise being eaten by Alan Webster\n",
      "bird Gillian being eaten by Brandon Young-Smith\n",
      "bird Allan being eaten by Brandon Young-Smith\n",
      "bird Latasha being eaten by Brandon Young-Smith\n",
      "bird Klara being eaten by Alan Webster\n",
      "bird Charles being eaten by Brandon Young-Smith\n",
      "bird Gabriel being eaten by Alan Webster\n",
      "bird Maria being eaten by Brandon Young-Smith\n",
      "bird Tobiasz being eaten by Alan Webster\n",
      "bird Cezary being eaten by Brandon Young-Smith\n",
      "bird William being eaten by Alan Webster\n",
      "bird Anthony being eaten by Brandon Young-Smith\n",
      "bird Tomasz being eaten by Brandon Young-Smith\n",
      "bird Alexis being eaten by Alan Webster\n",
      "bird Hazel being eaten by Alan Webster\n",
      "bird Aaron being eaten by Brandon Young-Smith\n",
      "bird Stuart being eaten by Alan Webster\n",
      "bird Roger being eaten by Brandon Young-Smith\n",
      "bird Hugh being eaten by Alan Webster\n",
      "Not enough birds (1 is not a flock)\n",
      "Lone survivor:  Tonya\n"
     ]
    }
   ],
   "source": [
    "scene = canvas()\n",
    "scene.range = 100\n",
    "Boids2([\n",
    "    FlyToCenter, AvoidOtherBoids, MatchFlockSpeed, # <- regular rules exist for birds to move\n",
    "    PredatorsExist(num=2), # <- specify number of predators\n",
    "    #PredatorsChasePFC, \n",
    "    PredatorsChaseClosestBird(memory=100), # <- looks a bit more natural than PredatorsChasePFC\n",
    "    BirdsEscapePredators, # <- interesting without this\n",
    "    PredatorsEatBirds(vicinity_to_eat=20), # <- boring without this\n",
    "    PredatorsAvoidOtherPredators # <- predators overlap without this (in PFC mode)\n",
    "], numboids=20).boids(length=2000, speed=100)"
   ]
  },
  {
   "cell_type": "markdown",
   "metadata": {
    "slideshow": {
     "slide_type": "subslide"
    }
   },
   "source": [
    "## Bug (I think it is fixed now)\n",
    "\n",
    "Once the birds get dispersed throughout the cube, and the predator stays in the middle, since the predator follows the \"Perceived Flock Center\" and also since the birds try to avoid the center where the predator is, we enter a buggy equilibrium state where the predator can't pick a direction."
   ]
  },
  {
   "cell_type": "markdown",
   "metadata": {
    "slideshow": {
     "slide_type": "slide"
    }
   },
   "source": [
    "## Refactor to get population information through time"
   ]
  },
  {
   "cell_type": "markdown",
   "metadata": {
    "slideshow": {
     "slide_type": "fragment"
    }
   },
   "source": [
    "To be able to graph the changes in population over time we need to make the following possible:"
   ]
  },
  {
   "cell_type": "markdown",
   "metadata": {
    "slideshow": {
     "slide_type": "fragment"
    }
   },
   "source": [
    "1. After the `.boids()` function is called it should return the data of both the birds and predators.\n"
   ]
  },
  {
   "cell_type": "markdown",
   "metadata": {
    "slideshow": {
     "slide_type": "fragment"
    }
   },
   "source": [
    "2. The `.boids()` function should accept an optional parameter that would make rendering faster."
   ]
  },
  {
   "cell_type": "code",
   "execution_count": 37,
   "metadata": {
    "slideshow": {
     "slide_type": "subslide"
    }
   },
   "outputs": [],
   "source": [
    "@dataclass\n",
    "class BoidsData:\n",
    "    population: list[tuple[int, int]]\n",
    "\n",
    "class Boids3(Boids2): # inherit from original Boids and overwrite __int__ and moveAllBoidsToNewPositions\n",
    "    def __init__(self, rules: list[Rule], numboids = 10, sidesize = 100.0, log=False):     #class constructor with default parameters filled\n",
    "        super().__init__(rules, numboids, sidesize, log)\n",
    "        global scene\n",
    "        scene.title = \"Boids v3\"\n",
    "        self._moveAllBoidsToNewPositions = self.moveAllBoidsToNewPositions\n",
    "        self.data = BoidsData([])\n",
    "    \n",
    "    def boids(self, length=300, speed=100):\n",
    "        self.initializePositions()      #create a space with boids\n",
    "        x = 0\n",
    "        \n",
    "        while x < length and not self.should_stop: \n",
    "            rate(speed)\n",
    "            try:\n",
    "                self.moveAllBoidsToNewPositions()\n",
    "            except Boids2.NotEnoughBirdsLeft:\n",
    "                break\n",
    "            self.update_data()\n",
    "            x += 1\n",
    "        return self.data # boids() now returns data\n",
    "\n",
    "    def update_data(self):\n",
    "        self.data.population.append((len(self.boidflock), len(self.predatorflock)))"
   ]
  },
  {
   "cell_type": "code",
   "execution_count": 19,
   "metadata": {
    "slideshow": {
     "slide_type": "skip"
    }
   },
   "outputs": [],
   "source": [
    "from matplotlib import pyplot as plt"
   ]
  },
  {
   "cell_type": "markdown",
   "metadata": {
    "slideshow": {
     "slide_type": "slide"
    }
   },
   "source": [
    "## Plotting population"
   ]
  },
  {
   "cell_type": "code",
   "execution_count": 60,
   "metadata": {
    "scrolled": false,
    "slideshow": {
     "slide_type": "subslide"
    }
   },
   "outputs": [
    {
     "data": {
      "text/html": [
       "<div id=\"glowscript\" class=\"glowscript\"></div>"
      ],
      "text/plain": [
       "<IPython.core.display.HTML object>"
      ]
     },
     "metadata": {},
     "output_type": "display_data"
    },
    {
     "data": {
      "application/javascript": [
       "if (typeof Jupyter !== \"undefined\") { window.__context = { glowscript_container: $(\"#glowscript\").removeAttr(\"id\")};}else{ element.textContent = ' ';}"
      ],
      "text/plain": [
       "<IPython.core.display.Javascript object>"
      ]
     },
     "metadata": {},
     "output_type": "display_data"
    },
    {
     "data": {
      "image/png": "[encoded data removed]",
      "text/plain": [
       "<Figure size 432x288 with 1 Axes>"
      ]
     },
     "metadata": {
      "needs_background": "light"
     },
     "output_type": "display_data"
    }
   ],
   "source": [
    "scene = canvas()\n",
    "scene.range = 100\n",
    "data = Boids3([\n",
    "    FlyToCenter, AvoidOtherBoids, MatchFlockSpeed, \n",
    "    PredatorsExist(num=3), \n",
    "    PredatorsChasePFC,\n",
    "    #PredatorsChaseClosestBird(memory=5),\n",
    "    BirdsEscapePredators,\n",
    "    PredatorsEatBirds(vicinity_to_eat=10),\n",
    "    PredatorsAvoidOtherPredators\n",
    "], numboids=20, log=False).boids(length=8000, speed=10000); # speed parameter *speeds* things up\n",
    "\n",
    "ax = plt.gca()\n",
    "ax.plot(data.population);\n",
    "ax.legend([\"birds\", \"predators\"]);"
   ]
  },
  {
   "cell_type": "markdown",
   "metadata": {
    "slideshow": {
     "slide_type": "slide"
    }
   },
   "source": [
    "## Ideas for more rules\n",
    "\n",
    "1. Predators starve when not eating any birds.\n",
    "2. Predators reproduce when ate enough birds. Random mutations could cause decrease of speed but increase of minimal vicinity to eat (kill range) etc. to make for more diverse and interesting ecosystem.\n",
    "3. Birds reproduce if not eaten for a while.\n",
    "\n",
    "New generations inherit the speed factors of their parent(s) with slight mutations selecting for increasingly faster movement. \n",
    "\n",
    "4. Predators have territories (part of the cube), and fight other predators for them.\n",
    "5. Predators are smart and work together: each predator gets assigned birds, chosen by how close they are to the given predator. No bird is assigned to two predators, unless there are so many predators that some have nothing else to do. This could fix them sticking together similar to closest bird strategy.\n",
    "\n",
    "But for such more complex behavior maybe it would make more sense to use Godot (which can be scripted with Python), Unity etc."
   ]
  },
  {
   "cell_type": "markdown",
   "metadata": {
    "slideshow": {
     "slide_type": "slide"
    }
   },
   "source": [
    "## Sources\n",
    "\n",
    "- https://vpython.org/contents/contributed/boids.py\n",
    "- http://www.vergenet.net/~conrad/boids/pseudocode.html\n",
    "- https://en.wikipedia.org/wiki/Boids\n",
    "- https://en.wikipedia.org/wiki/Bird#Flocking_and_other_associations\n",
    "- https://en.wikipedia.org/wiki/Flock_(birds)"
   ]
  }
 ],
 "metadata": {
  "celltoolbar": "Slideshow",
  "interpreter": {
   "hash": "6a19f49f4d0e288ed7a5dad5aa2c8891b11a4ed9b934e0da10fb31355399f358"
  },
  "kernelspec": {
   "display_name": "Python 3",
   "language": "python",
   "name": "python3"
  },
  "language_info": {
   "codemirror_mode": {
    "name": "ipython",
    "version": 3
   },
   "file_extension": ".py",
   "mimetype": "text/x-python",
   "name": "python",
   "nbconvert_exporter": "python",
   "pygments_lexer": "ipython3",
   "version": "3.9.0"
  },
  "rise": {
   "scroll": true
  }
 },
 "nbformat": 4,
 "nbformat_minor": 4
}
